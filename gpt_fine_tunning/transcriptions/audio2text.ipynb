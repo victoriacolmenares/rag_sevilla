{
 "cells": [
  {
   "cell_type": "code",
   "execution_count": 2,
   "metadata": {},
   "outputs": [],
   "source": [
    "import requests\n",
    "import os\n",
    "from openai import OpenAI\n",
    "from IPython.display import Markdown\n",
    "\n",
    "client = OpenAI(api_key=os.getenv(\"OPENAI_API_KEY\"))"
   ]
  },
  {
   "cell_type": "markdown",
   "metadata": {},
   "source": [
    "## Obtain the audio files"
   ]
  },
  {
   "cell_type": "code",
   "execution_count": 4,
   "metadata": {},
   "outputs": [
    {
     "data": {
      "text/plain": [
       "['../audios/acento_andaluz2.mp4',\n",
       " '../audios/acento_andaluz3.mp4',\n",
       " '../audios/acento_andaluz1.mp4']"
      ]
     },
     "execution_count": 4,
     "metadata": {},
     "output_type": "execute_result"
    }
   ],
   "source": [
    "audio_files = [\n",
    "    f'../audios/{file}'\n",
    "    for file in os.listdir('../audios/')\n",
    "    if file.endswith('.mp4')\n",
    "]\n",
    "audio_files"
   ]
  },
  {
   "cell_type": "markdown",
   "metadata": {},
   "source": [
    "## Transform the audio to text"
   ]
  },
  {
   "cell_type": "code",
   "execution_count": 5,
   "metadata": {},
   "outputs": [],
   "source": [
    "def audio2text(audio_files):\n",
    "    transcription = ''\n",
    "    for audio_file in audio_files:\n",
    "        print(f\"Transcribing {audio_file}\")\n",
    "        with open(audio_file, \"rb\") as file:\n",
    "            response = client.audio.transcriptions.create(\n",
    "                model=\"whisper-1\",\n",
    "                file=file,\n",
    "                response_format=\"text\"\n",
    "            )\n",
    "            print(response)\n",
    "            transcription += response\n",
    "    return transcription"
   ]
  },
  {
   "cell_type": "code",
   "execution_count": 6,
   "metadata": {},
   "outputs": [
    {
     "name": "stdout",
     "output_type": "stream",
     "text": [
      "Transcribing ../audios/acento_andaluz2.mp4\n",
      "A ver, la semana pasada quedé con unas cuantas de amigas, ¿vale? Y la verdad que fue algo extraordinario, que tú dirás, ¿por qué? Porque a mi edad, mira, lo que pasa es que cada una llevamos nuestra vida, ¿vale? Hay algunas que tienen novio, otras que ya se han casado, otras que tienen hijos y luego estamos en la soltera. Pues esa noche yo me fui a mi casa y empecé a darle huerta a la perola, diciendo, estoy haciendo bien con él, camino de vida que llevo. Veremos a ver si no acabo siendo la típica solterona que está, venga, cambiaos de hombre, que tiene un nombre fijo. Así que pensé, Marta, no te sulfures, relaja las rajas y ponte a pensar en el tipo de relaciones que tiene la gente que conoce. A ver, relaciones a distancia. El que sea capaz de llevarla se merece un monumentazo, pero a mí con el sexo telefónico no me basta, a mí eso no me llena, no me satisface. Las parejas coalas. Esas que no se despegan el uno del otro en tordillas. Venga ya, tío, deja los pipíes, una mejilla. No se puede estar tordillas pegadas al culo con tu novio, al final está burra, es prenda. Novio y novia celosa. No te reconcomas tanto, si al final, si te los quieres poner, te los va a poner. Lo que estás haciendo es amargarte la existencia, Diablo, en primera persona. Los acostumbrados, vamos a ver, no se puede estar por costumbre, tío. Hay mucho mundo ahí fuera. Si ya no os queréis, echad a volar, tío, que la vida son dos días. A las parejas de hoy en día ya no tienen nada que ver con las de antes, ¿sabes? Mi abuelo hizo un viaje de tres días en burro para ir a buscar a mi abuela porque se había enamorado de ella y la había visto una vez en las fiestas del pueblo. Hoy en día te gusta una persona en la discoteca y como tengas que hacer mucho esfuerzo en Facebook para encontrarla, la dejas pasar. ¿Volver con un exnovio? Pues no. ¿Conozco algún caso? Que sí, pero suele ser que no, así que no pierdas el tiempo. Busca carne fresca. Y lo guapo que estás cuando te encuentras a un exnovio que lleva ya muchos años sin ver y te ha hecho un carzo borriquero. Por cierto, no cojáis perros para unir a la pareja porque yo ya llevo tres. Perros tres, parejas cero. Dicen las encuestas en España que dos de cada tres parejas se separan. Así que antes de casarte piensa si eres una persona con suerte. ¿Os ha pasado alguna vez que vais con vuestra pareja de tapa y pedís cerveza en este y la cerveza os va a ir? ¿Por qué? Que la borracha soy yo. A ver, pregunto, ¿por qué este prejuicio social de ver mal que entre un hombre y una mujer haya una gran diferencialidad? A mí me dan los yogurines. ¡Casco de hoy! No quería hablar de las suegras, pero si encuentras una medio que vale, pero cuando tengas una mala, niño, son sin vivir. ¿Será por chistes de suegra? Yo no quiero ser suegra en la vida. En fin, que tenga una amiga que tiene un novio y le hace más caso a la play que a ella. Tenga un amigo que a la novia le hace más caso al Facebook que a él. Tenga una amiga que el novio pasa más rato en el gimnasio que en su casa. Otro amigo que su novia sale de fiesta trece días a la semana. Una que se ha liado con el hermano de su novio. Así que al final, yo qué sé, pensándolo fríamente, tampoco se está más soltero, ¿sabes? I'm a single lady. No sé si tienes pareja y eres feliz, ole tú. Pero yo voy a seguir disfrutando un tiempo de mi soltería, así que si algún macizo o no macizo que ya está Artura, me da igual, quiere ponerse en contacto conmigo, aquí dejo mi número. Pero para nada serio, ¿eh?\n",
      "\n",
      "Transcribing ../audios/acento_andaluz3.mp4\n",
      "¡Eh! ¡Escuchad! El vídeo de hoy va dedicado a toda esa gente que por lo más mínimo que le pase se creen que el universo conspira contra ellos y se pillan una amargadera de mes y medio, ¿vale? Voy a contaros lo que me pasó a mí el día de ayer y luego ya os replantáis lo vuestro. Ayer para levantarme me había puesto una arma a las 8, 8 y minutos, 8 y 2, 8 y 3, así hasta las 8. Cuarenta y ciento y acabé levantándome a las una de la tarde. Total, me tomo mi café y mi cigarro, como todos sabemos después de eso viene el muñeco de barro. Y luego viví este momento de pánico en el que te das cuenta que al tirar de la cadena el agua en vez de bajar, sube. Luego miré al móvil y me di cuenta que un muchacho que me mola me había escrito sin que hice una captura de pantalla para mandárselo a mi amiga con tan mala suerte que la captura de pantalla se la mandé a él. ¡Eh! Me puse tan nerviosa que el móvil se me rebaló de entre las manos y se me cayó al suelo con la pantalla para abajo. No sé si os ha pasado, pero en ese momento el mundo se detiene, ¿vale? Y como yo no llevo carcasa en el móvil, no porque no tenga, la tengo, pero no sé dónde. En el suelo tenía la pantalla hecha una de la araña, ¿me entendéis, no? Y encima luego tienes que soportar al típico tonto que te ve el móvil y te dice esa es la nueva aplicación, ¿no? ¡Eh! Fui un ratito al gimnasio, lo cual es bueno, lo que es que me puse unas mallas grises de algodón. No sé si me entendéis. No es la prenda apropiada si el ojete va a sudarte. Después fui a comer con una amiga que había quedado a un barrito. En el servicio no había papel y tuve que secarme el chumino con esas servilletas que son lijas. Después fui a casa a ducharme. De camino pisé un mojón. Mi amiga me dijo, eso da suerte. Que yo pensé, ¿qué coño dices? Si nos consolamos con eso, pues vale, pero que el mierdón la has pisado. Al meterme en la ducha el calentador estaba apagado, así que bueno, me duché con agua, lo que viene siendo, fresquita. Que dicen, eso es bueno para pies. Y lo que yo pienso es, es una polla. Luego me fui a sanar a casa de unos colegas que se ve que iba un montón de gente y haces botellón y todo el rollo antes de salir. Luego estando allí resulta que me tiene que dar un apretón. Así es, lo confieso, mis intestinos trabajan duro. Total, que yo me fui para el baño, imagínate la situación. El baño de un metro por un metro cuadrado, sin una ventana ni nada. Y yo al terminar dije, ¿qué hago? ¿He hecho colonia aquí? ¿Dejo el olor a este? ¿Cómo lo hago? Y bueno, he hecho una mijilla de colonia y allí se formó un mezclería de olores asquerosos. Total, que me fui para afuera, con la mala suerte de que al salir había un tío que estaba muy bueno, esperando para entrar. Y el muchacho me hizo así. Respondí pensando para mí adentro, no veas la que va a tragarte, primo. Después nos fuimos de fiesta. Allí conocí a un muchacho que estaba muy apañado. Le di una mijilla con él. Y el muchacho me dijo, vente para mi casa. Dio la casualidad, dio la casualidad de que yo no estaba depilado. Yo pensé, coño, estamos borrachos, tampoco creo que el muchacho se fije mucho. Pero hoy al levantarme me he dado cuenta que en mi barrio me llaman Chehuaca. Pero mira, yo después del día que pasé allá y aún así sabiendo esta mañana que en mi barrio saben que tengo más pelos que el Yeti, sigo más contenta que una espacua. Que no os rayéis por tonterías, hombre. Que os seáis muy felices.\n",
      "\n",
      "Transcribing ../audios/acento_andaluz1.mp4\n",
      "Dicen que viajar es lo único en lo que gastas dinero, pero que te hace más rico. Pues a mí otro día me entró el gusanillo este de que tenía ganas de salir de Granada a hacer un viajillo y se lo planteé a mi hermana. Ya tengo ganas de que nos caigamos un viajillo. No tengo pasta, tío. Pues nos metemos el primer vuelo que pillemos, es lo que te digo, y emplazamos chileras, ¿qué me dices? Venga, coño, dale. ¡Dale! ¡Vámonos a la obra! Sky Scanner, vuelo más barato, Babum, Babaveiro, 40 euros, Madrid, Amsterdam. Primera parte del viaje. Cogemos las dos catetas, estación de autobuses de Granada a Madrid. Cinco horas. Me toca Pasillo. Cuellazo al canto. ¿Por qué? Porque nos faltaba lo que viene siendo el posapescuezo este, que le llamo yo. Ahora, pues yo llegué a Madrid, ¿sabes lo que te digo? Con el cuello y la espalda que parecía que había estado vareando olivos un mes entero. Yo dando cuellazo y mi hermana, que la había tocado a ventanilla, roncando como una mula, éramos el espectáculo del autobús. Yo creo que hubo gente que nos echó hasta falta. Llegamos a Madrid, dos muchachicas de Granada, ¿vale? Y llega el momento, metro. Le preguntamos a unos señores que andaban por allí. Mira, perdone que le diga. Nosotros vamos al aeropuerto. ¿Qué línea tenemos que coger? Y nos dice el muchacho. ¿A qué te vais? ¿Qué té, qué té, mi té? Como hablando se entiende la gente, llegamos al aeropuerto. Ya estando allí, dice mi hermana, me apetece una cervecita. Y digo, a mí también. Dos cervezas que compramos, niña, 10.50. Nos montamos en el avión y todo el rollo. La verdad que la cosa fue bien, ¿no? Una milla de turbulencias. Mi hermana y yo echamos algún pedillo que otro, pero la cosa iba bien. Aquí hay una cosa que me preguntó de los aviones, y es por qué sigue apareciendo el monigote ese de que no se puede fumar. Es algo que ya se viene sobreentendiendo. Además, lo de fumar se llevaba antes. Yo tenía maestro que fumaba en las clases. Yo he visto a un médico fumando en las consultas. Fumar ya no se lleva. Volábamos en Ryanair. El que haya volado en Ryanair me comprenderá. El avión aterriza bien. Ponen unas trompetas. Que parece que va a aparecer la reina de Inglaterra por la puerta. Hay gente que aplaude, hay gente que no. Mi hermana y yo nos partimos las manos. Ya estábamos en la estrada. La cosa empezó a verse chunga porque todos los carteles eran en inglés. Y como íbamos en plan mochilera, no teníamos ni sitio para dormir ni nada. Pero dijimos, si lo podemos hacer luego, ¿por qué no hacemos ahora otra cosa? Entramos en un cofeeshop. Tampoco tengo que ponerme a explicarme aquí lo que hicimos mi hermana y yo en aquel sitio. Solo que salimos de allí con los ojos que parecíamos un chino con sueño. Echamos a andar por allí, con esa alegría que inundaba nuestro cuerpo. Y pasamos por un barrio que llaman el barrio de las luces rojas. Intentamos echar una foto, pero no tuvimos que ir porque una de esas mujeres que andaban en tetas casi nos echa del barrio. Ya cuando el sueño apretó, decidimos ir a un hostal, una verga de estos, a preguntar el precio y todo el rollo. Imagínate, cuando yo llegué allí, el muchacho me hablaba en inglés. Hermana, 13 euros las dos, la verdad que está de lujo, nos quedamos, ¿no? Seis literas, a lo que te digo, doce camas, doce personas allí durmiendo queso por la mañana del cuarto año. Imagínate ir al festival de los peos, un baño para todos. Al día siguiente, habíamos contratado un free tour, en alemán. Una pizza atropelló a mi hermana. Para cenar, un cucurucho de papas fritas. No por nada, sino porque si Madrid era cara, imagínatelo, Amsterdam. En esa línea siguió el viaje hasta el momento que nos fuimos ahí. Fuimos a pagar el hostal y nosotros, con el CIRTI, entendimos que era 13, y CIRTI, chicos, significa 30. La noche antes de irnos salimos, porque conocimos a unos españoles, y cuando conoces a un español fuera de tu país parece que es tu primo hermano. Y con el conquis de la fiesta, ¿sabes lo que te digo? Nos quedamos dormidas y perdimos el avión. 200 euros cada una apoquinamos para volver de Amsterdam a Madrid. Y a la vuelta, en el aeropuerto de Madrid, me perdieron la malita. Cago en Ryanair y en Torcoponete. Así que bueno, el viajillo ese de mochileros, más que de mochileros, podemos llamarlo de gastar dinero. Así que la próxima vez lo que voy a hacer es que me lo voy a organizar una mejilla mejor, y lo que tengo clarísimo es que me voy a poner a estudiar inglés, pero ya. Fantasma.\n",
      "\n"
     ]
    }
   ],
   "source": [
    "transcription = audio2text(audio_files)"
   ]
  },
  {
   "cell_type": "markdown",
   "metadata": {},
   "source": [
    "## Create a transcription file"
   ]
  },
  {
   "cell_type": "code",
   "execution_count": 7,
   "metadata": {},
   "outputs": [],
   "source": [
    "transcription_filename = '../transcriptions/acento_andaluz.txt'\n",
    "with open (transcription_filename, \"w\") as file:\n",
    "    file.write(transcription)\n",
    "    file.close()"
   ]
  }
 ],
 "metadata": {
  "kernelspec": {
   "display_name": "IAbootcamp-coCBLaES",
   "language": "python",
   "name": "python3"
  },
  "language_info": {
   "codemirror_mode": {
    "name": "ipython",
    "version": 3
   },
   "file_extension": ".py",
   "mimetype": "text/x-python",
   "name": "python",
   "nbconvert_exporter": "python",
   "pygments_lexer": "ipython3",
   "version": "3.10.12"
  }
 },
 "nbformat": 4,
 "nbformat_minor": 2
}
