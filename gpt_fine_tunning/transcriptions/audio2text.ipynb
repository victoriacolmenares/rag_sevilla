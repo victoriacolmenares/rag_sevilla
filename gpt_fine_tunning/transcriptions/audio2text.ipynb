{
 "cells": [
  {
   "cell_type": "code",
   "execution_count": 2,
   "metadata": {},
   "outputs": [],
   "source": [
    "import requests\n",
    "import os\n",
    "from openai import OpenAI\n",
    "from IPython.display import Markdown"
   ]
  },
  {
   "cell_type": "markdown",
   "metadata": {},
   "source": [
    "## Transform the audio to text"
   ]
  },
  {
   "cell_type": "code",
   "execution_count": 4,
   "metadata": {},
   "outputs": [
    {
     "name": "stdout",
     "output_type": "stream",
     "text": [
      "¡Eh! ¡Escuchad! El vídeo de hoy va dedicado a toda esa gente que por lo más mínimo que le pase se creen que el universo conspira contra ellos y se pillan una amargadera de mes y medio, ¿vale? Voy a contaros lo que me pasó a mí el día de ayer y luego ya os replantáis lo vuestro. Ayer para levantarme me había puesto una arma a las 8, 8 y minutos, 8 y 2, 8 y 3, así hasta las 8. Cuarenta y ciento y acabé levantándome a las una de la tarde. Total, me tomo mi café y mi cigarro, como todos sabemos después de eso viene el muñeco de barro. Y luego viví este momento de pánico en el que te das cuenta que al tirar de la cadena el agua en vez de bajar, sube. Luego miré al móvil y me di cuenta que un muchacho que me mola me había escrito sin que hice una captura de pantalla para mandárselo a mi amiga con tan mala suerte que la captura de pantalla se la mandé a él. ¡Eh! Me puse tan nerviosa que el móvil se me rebaló de entre las manos y se me cayó al suelo con la pantalla para abajo. No sé si os ha pasado, pero en ese momento el mundo se detiene, ¿vale? Y como yo no llevo carcasa en el móvil, no porque no tenga, la tengo, pero no sé dónde. En el suelo tenía la pantalla hecha una de la araña, ¿me entendéis, no? Y encima luego tienes que soportar al típico tonto que te ve el móvil y te dice esa es la nueva aplicación, ¿no? ¡Eh! Fui un ratito al gimnasio, lo cual es bueno, lo que es que me puse unas mallas grises de algodón. No sé si me entendéis. No es la prenda apropiada si el ojete va a sudarte. Después fui a comer con una amiga que había quedado a un barrito. En el servicio no había papel y tuve que secarme el chumino con esas servilletas que son lijas. Después fui a casa a ducharme. De camino pisé un mojón. Mi amiga me dijo, eso da suerte. Que yo pensé, ¿qué coño dices? Si nos consolamos con eso, pues vale, pero que el mierdón la has pisado. Al meterme en la ducha el calentador estaba apagado, así que bueno, me duché con agua, lo que viene siendo, fresquita. Que dicen, eso es bueno para pies. Y lo que yo pienso es, es una polla. Luego me fui a sanar a casa de unos colegas que se ve que iba un montón de gente y haces botellón y todo el rollo antes de salir. Luego estando allí resulta que me tiene que dar un apretón. Así es, lo confieso, mis intestinos trabajan duro. Total, que yo me fui para el baño, imagínate la situación. El baño de un metro por un metro cuadrado, sin una ventana ni nada. Y yo al terminar dije, ¿qué hago? ¿He hecho colonia aquí? ¿Dejo el olor a este? ¿Cómo lo hago? Y bueno, he hecho una mijilla de colonia y allí se formó un mezclería de olores asquerosos. Total, que me fui para afuera, con la mala suerte de que al salir había un tío que estaba muy bueno, esperando para entrar. Y el muchacho me hizo así. Respondí pensando para mí adentro, no veas la que va a tragarte, primo. Después nos fuimos de fiesta. Allí conocí a un muchacho que estaba muy apañado. Le di una mijilla con él. Y el muchacho me dijo, vente para mi casa. Dio la casualidad, dio la casualidad de que yo no estaba depilado. Yo pensé, coño, estamos borrachos, tampoco creo que el muchacho se fije mucho. Pero hoy al levantarme me he dado cuenta que en mi barrio me llaman Chehuaca. Pero mira, yo después del día que pasé allá y aún así sabiendo esta mañana que en mi barrio saben que tengo más pelos que el Yeti, sigo más contenta que una espacua. Que no os rayéis por tonterías, hombre. Que os seáis muy felices.\n",
      "\n"
     ]
    }
   ],
   "source": [
    "client = OpenAI(api_key=os.getenv(\"OPENAI_API_KEY\"))\n",
    "\n",
    "base_filename = \"acento_andaluz3\"\n",
    "\n",
    "audio_file = open(f\"../audios/{base_filename}.mp4\", \"rb\")\n",
    "\n",
    "transcription = client.audio.transcriptions.create(\n",
    "    model=\"whisper-1\",\n",
    "    file=audio_file,\n",
    "    response_format=\"text\"\n",
    ")\n",
    "\n",
    "print(transcription)"
   ]
  },
  {
   "cell_type": "markdown",
   "metadata": {},
   "source": [
    "## Create a transcription file"
   ]
  },
  {
   "cell_type": "code",
   "execution_count": 5,
   "metadata": {},
   "outputs": [],
   "source": [
    "transcription_filename = f\"../transcriptions/{base_filename}_transcription.txt\"\n",
    "with open (transcription_filename, \"w\") as file:\n",
    "    file.write(transcription)\n",
    "    file.close()"
   ]
  }
 ],
 "metadata": {
  "kernelspec": {
   "display_name": "IAbootcamp-coCBLaES",
   "language": "python",
   "name": "python3"
  },
  "language_info": {
   "codemirror_mode": {
    "name": "ipython",
    "version": 3
   },
   "file_extension": ".py",
   "mimetype": "text/x-python",
   "name": "python",
   "nbconvert_exporter": "python",
   "pygments_lexer": "ipython3",
   "version": "3.10.12"
  }
 },
 "nbformat": 4,
 "nbformat_minor": 2
}
