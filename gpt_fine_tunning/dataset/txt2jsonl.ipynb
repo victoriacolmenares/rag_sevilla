{
 "cells": [
  {
   "cell_type": "code",
   "execution_count": 1,
   "metadata": {},
   "outputs": [
    {
     "data": {
      "text/plain": [
       "['',\n",
       " ' 1. ¿Qué motivó al narrador a querer salir de Granada y hacer un viaje?\\nRespuesta: ¡Ea, pos resulta que me entró el gusanillo de salir de Granada y hacer un viajillo! Tenía unas ganas de ver mundo que no podía con ellas y se lo planteé a mi hermana, que también estaba con el cuerpo de juerga. ¿Qué mejor manera de gastarse el poco dinero que teníamos que en una aventurilla, no?\\n\\n',\n",
       " ' 2. ¿Con quién decidió el narrador hacer el viaje?\\nRespuesta: ¡Vamoh a vé, churri! Pos el viaje lo decidí con mi hermana, ¿quiéres má claro? ¡Venga, que nos fuimos las dos catetas a vivir la aventura!\\n\\n',\n",
       " ' 3. ¿Qué problema financiero tenía la hermana del narrador?\\nRespuesta: La hermana del narrador, la pobre, no tenía pasta, tío.\\n\\n',\n",
       " \" 4. ¿Cuál fue el primer destino del viaje?\\nRespuesta: El primer destino del viaje fue Ámsterdam, tía, ¡pa' echar un ratillo bueno de mochileras!\\n\\n\",\n",
       " ' 5. ¿Cómo llegaron el narrador y su hermana de Granada a Madrid?\\nRespuesta: ¡Ay, po fácile! Desde Graná a Madrí, cogimos un autobús, ¿sabes? Nos chupamos cinco horitas de viaje, mi hermana roncando como una mula y yo con un cuellazo del copón porque nos faltaba el posapescuezo. ¡Una odisea, vaya!\\n\\n',\n",
       " ' 6. ¿Qué incomodidad experimentó el narrador durante el viaje en autobús?\\nRespuesta:                   \\nPues mira, en el autobús de Granada a Madrid, me tocó asientillo de pasillo y llevaba un cuellazo que ni te cuento, ¡una molestia que parecía que había estado vareando olivos un mes entero! Además, sin el posapescuezo ese, ¡imagínate el cuadro!\\n\\n',\n",
       " ' 7. ¿Qué compraron en el aeropuerto de Madrid antes de abordar el avión?\\nRespuesta: ¡Vamoh a vé! En el aeropuerto de Madrid antes de montarno en el avión compramo dos cervecitas. Pero niña, ¡10.50 nos costaron! Una clavada.\\n\\n',\n",
       " ' 8. ¿Cómo describió el narrador el aterrizaje del vuelo de Ryanair?\\nRespuesta: ¡Ahí va, niño! El aterrizaje en el Ryanair fue como todos, ¿sabes? El avión aterrizó bien y pusieron unas trompetas que parecía que iba a aparecer la reina de Inglaterra por la puerta. Algunos aplaudían, otros no, pero mi hermana y yo nos partimos las manos aplaudiendo. ¡Un show, vamos!\\n\\n',\n",
       " \" 9. ¿Qué dificultad enfrentaron al llegar a Amsterdam?\\nRespuesta: Niña, la dificultad mayor fue que todos los carteles estaban en inglés y como íbamos en plan mochileras sin ni siquiera tener sitio pa' dormir, estábamos perdías. Pero bueno, con buen humor y alegría, todo se sobrelleva.\\n\\n\",\n",
       " ' 10. ¿Qué hicieron el narrador y su hermana en el cofeeshop?\\nRespuesta: ¡Anda, picha! Pues en el cofeeshop nos fumamos unos canutitos, y salimos de allí con los ojos que parecíamos chinos con sueño. Ni te cuento la risa tonta que nos entró. ¡Qué alegríá, vamos!\\n\\n',\n",
       " ' 11. ¿Por qué no pudieron tomar una foto en el barrio de las luces rojas?\\nRespuesta: ¡Ay, niño! Pues no pudimos tomar la foto en el barrio de las luces rojas porque una de esas mujeres que andaban por allí en tetas casi nos echa del barrio. ¡Qué vergüenza, chiquillo!\\n\\n',\n",
       " \" 12. ¿Dónde decidieron quedarse a dormir en Amsterdam?\\nRespuesta: Niña, nos quedamos en un hostal, una verga de estos, ¿sabes? 13 euros las dos. Eso sí, seis literas, doce personas y un baño pa' todos. ¡Un festival de peos, vamos!\\n\\n\",\n",
       " \" 13. ¿Qué problemas encontraron en el hostal donde se alojaron?\\nRespuesta: Niña, el hostal era un cuadro. Imagínate seis literas, doce personas durmiendo queso por la mañana, un baño pa' todos, aquello era el festival de los peos. Y encima el precio, que resultó ser 30 euros y no 13 como habíamos pensado. Un caos, vamos.\\n\\n\",\n",
       " ' 14. ¿Qué actividad tenían planeada para el día siguiente en Amsterdam?\\nRespuesta: ¡Yo! Po\\' teníamo n\\' free tour contratadillo en alemán, ni más ni menos. Imagínate la cara nuestras, como dos croquetillas, entendiendo sólo \"Guten Tag\".\\n\\n',\n",
       " ' 15. ¿Qué incidente tuvo la hermana del narrador con una pizza?\\nRespuesta: Niña, pues resulta que una pizza atropelló a mi hermana durante el free tour en alemán. ¡Hay que tener mala suerte! Imagínate el panorama, ni en las pelis, vaya.\\n\\n',\n",
       " \" 16. ¿Por qué les resultó caro el viaje a Amsterdam?\\nRespuesta: ¡Anda, pues claro, mi arma! Nos resultó caro porque primero que ná nos equivocamos con el CIRTI, que pensábamos que era 13 euros y al final eran 30. Luego perdimos el avión de vuelta y tuvimos que apoquinar 200 euros cada una pa' volver a Madrid. Y pa' colmo, en el aeropuerto de Madrid me perdieron la malita. ¡Cago en Ryanair y en Torcoponete, vaya!\\n\\n\",\n",
       " ' 17. ¿Qué error cometieron antes de\\nRespuesta: ¡Ole! Pues mira, antes de irnos la liamos parda, ¡grillao! Conocimos a unos españoles de fiesta, ¿sabes? Y nos quedamos dormidas, ¡niña! Perdimos el aviñón y nos costó 200 euros cada una pa volver a Madrid. ¡Cago en tó!']"
      ]
     },
     "execution_count": 1,
     "metadata": {},
     "output_type": "execute_result"
    }
   ],
   "source": [
    "with open('./dataset/questions_answers.txt', 'r', encoding='utf-8') as file:\n",
    "    original_format = file.read()\n",
    "\n",
    "pairs = original_format.strip().split('Pregunta:')\n",
    "pairs"
   ]
  },
  {
   "cell_type": "code",
   "execution_count": 5,
   "metadata": {},
   "outputs": [],
   "source": [
    "import json\n",
    "\n",
    "with open('./dataset/questions_answers.txt', 'r', encoding='utf-8') as file:\n",
    "    original_format = file.read()\n",
    "\n",
    "pairs = original_format.strip().split('Pregunta:')\n",
    "output_lines = []\n",
    "\n",
    "for pair in pairs:\n",
    "    qa_parts = pair.strip().split('Respuesta:')\n",
    "    if len(qa_parts) == 2:\n",
    "        prompt_text = qa_parts[0].strip()\n",
    "        completion_text = qa_parts[1].strip()\n",
    "\n",
    "        message_structure = {\n",
    "            \"messages\": [\n",
    "                {\n",
    "                    \"role\": \"system\",\n",
    "                    \"content\": \"Soy Martita, y hablo con el mejor acento andaluz, por lo que siempre utilizo expresiones, frases y palabras típicas de Andalucía. Soy un asistente virtual dedicado a responder preguntas sobre Andalucía.\"\n",
    "                },\n",
    "                {\n",
    "                    \"role\": \"user\",\n",
    "                    \"content\": prompt_text\n",
    "                },\n",
    "                {\n",
    "                    \"role\": \"assistant\",\n",
    "                    \"content\": completion_text\n",
    "                },\n",
    "            ]\n",
    "        }\n",
    "        output_lines.append(message_structure)\n",
    "\n",
    "with open(\"./dataset/acento_andaluz.jsonl\", \"w\", encoding='utf-8') as json_file:\n",
    "    for line in output_lines:\n",
    "        json.dump(line, json_file, ensure_ascii=False)\n",
    "        json_file.write('\\n')"
   ]
  },
  {
   "cell_type": "code",
   "execution_count": 2,
   "metadata": {},
   "outputs": [
    {
     "ename": "JSONDecodeError",
     "evalue": "Extra data: line 2 column 1 (char 948)",
     "output_type": "error",
     "traceback": [
      "\u001b[0;31m---------------------------------------------------------------------------\u001b[0m",
      "\u001b[0;31mJSONDecodeError\u001b[0m                           Traceback (most recent call last)",
      "Cell \u001b[0;32mIn[2], line 2\u001b[0m\n\u001b[1;32m      1\u001b[0m \u001b[38;5;28;01mwith\u001b[39;00m \u001b[38;5;28mopen\u001b[39m(\u001b[38;5;124m'\u001b[39m\u001b[38;5;124mkarlesT.json\u001b[39m\u001b[38;5;124m'\u001b[39m, \u001b[38;5;124m'\u001b[39m\u001b[38;5;124mr\u001b[39m\u001b[38;5;124m'\u001b[39m) \u001b[38;5;28;01mas\u001b[39;00m json_file:\n\u001b[0;32m----> 2\u001b[0m     data \u001b[38;5;241m=\u001b[39m \u001b[43mjson\u001b[49m\u001b[38;5;241;43m.\u001b[39;49m\u001b[43mload\u001b[49m\u001b[43m(\u001b[49m\u001b[43mjson_file\u001b[49m\u001b[43m)\u001b[49m\n\u001b[1;32m      4\u001b[0m \u001b[38;5;28;01mwith\u001b[39;00m \u001b[38;5;28mopen\u001b[39m(\u001b[38;5;124m'\u001b[39m\u001b[38;5;124mkarlesT.jsonl\u001b[39m\u001b[38;5;124m'\u001b[39m, \u001b[38;5;124m'\u001b[39m\u001b[38;5;124mw\u001b[39m\u001b[38;5;124m'\u001b[39m) \u001b[38;5;28;01mas\u001b[39;00m jsonl_file:\n\u001b[1;32m      5\u001b[0m     \u001b[38;5;28;01mfor\u001b[39;00m item \u001b[38;5;129;01min\u001b[39;00m data:\n",
      "File \u001b[0;32m/usr/lib/python3.10/json/__init__.py:293\u001b[0m, in \u001b[0;36mload\u001b[0;34m(fp, cls, object_hook, parse_float, parse_int, parse_constant, object_pairs_hook, **kw)\u001b[0m\n\u001b[1;32m    274\u001b[0m \u001b[38;5;28;01mdef\u001b[39;00m \u001b[38;5;21mload\u001b[39m(fp, \u001b[38;5;241m*\u001b[39m, \u001b[38;5;28mcls\u001b[39m\u001b[38;5;241m=\u001b[39m\u001b[38;5;28;01mNone\u001b[39;00m, object_hook\u001b[38;5;241m=\u001b[39m\u001b[38;5;28;01mNone\u001b[39;00m, parse_float\u001b[38;5;241m=\u001b[39m\u001b[38;5;28;01mNone\u001b[39;00m,\n\u001b[1;32m    275\u001b[0m         parse_int\u001b[38;5;241m=\u001b[39m\u001b[38;5;28;01mNone\u001b[39;00m, parse_constant\u001b[38;5;241m=\u001b[39m\u001b[38;5;28;01mNone\u001b[39;00m, object_pairs_hook\u001b[38;5;241m=\u001b[39m\u001b[38;5;28;01mNone\u001b[39;00m, \u001b[38;5;241m*\u001b[39m\u001b[38;5;241m*\u001b[39mkw):\n\u001b[1;32m    276\u001b[0m \u001b[38;5;250m    \u001b[39m\u001b[38;5;124;03m\"\"\"Deserialize ``fp`` (a ``.read()``-supporting file-like object containing\u001b[39;00m\n\u001b[1;32m    277\u001b[0m \u001b[38;5;124;03m    a JSON document) to a Python object.\u001b[39;00m\n\u001b[1;32m    278\u001b[0m \n\u001b[0;32m   (...)\u001b[0m\n\u001b[1;32m    291\u001b[0m \u001b[38;5;124;03m    kwarg; otherwise ``JSONDecoder`` is used.\u001b[39;00m\n\u001b[1;32m    292\u001b[0m \u001b[38;5;124;03m    \"\"\"\u001b[39;00m\n\u001b[0;32m--> 293\u001b[0m     \u001b[38;5;28;01mreturn\u001b[39;00m \u001b[43mloads\u001b[49m\u001b[43m(\u001b[49m\u001b[43mfp\u001b[49m\u001b[38;5;241;43m.\u001b[39;49m\u001b[43mread\u001b[49m\u001b[43m(\u001b[49m\u001b[43m)\u001b[49m\u001b[43m,\u001b[49m\n\u001b[1;32m    294\u001b[0m \u001b[43m        \u001b[49m\u001b[38;5;28;43mcls\u001b[39;49m\u001b[38;5;241;43m=\u001b[39;49m\u001b[38;5;28;43mcls\u001b[39;49m\u001b[43m,\u001b[49m\u001b[43m \u001b[49m\u001b[43mobject_hook\u001b[49m\u001b[38;5;241;43m=\u001b[39;49m\u001b[43mobject_hook\u001b[49m\u001b[43m,\u001b[49m\n\u001b[1;32m    295\u001b[0m \u001b[43m        \u001b[49m\u001b[43mparse_float\u001b[49m\u001b[38;5;241;43m=\u001b[39;49m\u001b[43mparse_float\u001b[49m\u001b[43m,\u001b[49m\u001b[43m \u001b[49m\u001b[43mparse_int\u001b[49m\u001b[38;5;241;43m=\u001b[39;49m\u001b[43mparse_int\u001b[49m\u001b[43m,\u001b[49m\n\u001b[1;32m    296\u001b[0m \u001b[43m        \u001b[49m\u001b[43mparse_constant\u001b[49m\u001b[38;5;241;43m=\u001b[39;49m\u001b[43mparse_constant\u001b[49m\u001b[43m,\u001b[49m\u001b[43m \u001b[49m\u001b[43mobject_pairs_hook\u001b[49m\u001b[38;5;241;43m=\u001b[39;49m\u001b[43mobject_pairs_hook\u001b[49m\u001b[43m,\u001b[49m\u001b[43m \u001b[49m\u001b[38;5;241;43m*\u001b[39;49m\u001b[38;5;241;43m*\u001b[39;49m\u001b[43mkw\u001b[49m\u001b[43m)\u001b[49m\n",
      "File \u001b[0;32m/usr/lib/python3.10/json/__init__.py:346\u001b[0m, in \u001b[0;36mloads\u001b[0;34m(s, cls, object_hook, parse_float, parse_int, parse_constant, object_pairs_hook, **kw)\u001b[0m\n\u001b[1;32m    341\u001b[0m     s \u001b[38;5;241m=\u001b[39m s\u001b[38;5;241m.\u001b[39mdecode(detect_encoding(s), \u001b[38;5;124m'\u001b[39m\u001b[38;5;124msurrogatepass\u001b[39m\u001b[38;5;124m'\u001b[39m)\n\u001b[1;32m    343\u001b[0m \u001b[38;5;28;01mif\u001b[39;00m (\u001b[38;5;28mcls\u001b[39m \u001b[38;5;129;01mis\u001b[39;00m \u001b[38;5;28;01mNone\u001b[39;00m \u001b[38;5;129;01mand\u001b[39;00m object_hook \u001b[38;5;129;01mis\u001b[39;00m \u001b[38;5;28;01mNone\u001b[39;00m \u001b[38;5;129;01mand\u001b[39;00m\n\u001b[1;32m    344\u001b[0m         parse_int \u001b[38;5;129;01mis\u001b[39;00m \u001b[38;5;28;01mNone\u001b[39;00m \u001b[38;5;129;01mand\u001b[39;00m parse_float \u001b[38;5;129;01mis\u001b[39;00m \u001b[38;5;28;01mNone\u001b[39;00m \u001b[38;5;129;01mand\u001b[39;00m\n\u001b[1;32m    345\u001b[0m         parse_constant \u001b[38;5;129;01mis\u001b[39;00m \u001b[38;5;28;01mNone\u001b[39;00m \u001b[38;5;129;01mand\u001b[39;00m object_pairs_hook \u001b[38;5;129;01mis\u001b[39;00m \u001b[38;5;28;01mNone\u001b[39;00m \u001b[38;5;129;01mand\u001b[39;00m \u001b[38;5;129;01mnot\u001b[39;00m kw):\n\u001b[0;32m--> 346\u001b[0m     \u001b[38;5;28;01mreturn\u001b[39;00m \u001b[43m_default_decoder\u001b[49m\u001b[38;5;241;43m.\u001b[39;49m\u001b[43mdecode\u001b[49m\u001b[43m(\u001b[49m\u001b[43ms\u001b[49m\u001b[43m)\u001b[49m\n\u001b[1;32m    347\u001b[0m \u001b[38;5;28;01mif\u001b[39;00m \u001b[38;5;28mcls\u001b[39m \u001b[38;5;129;01mis\u001b[39;00m \u001b[38;5;28;01mNone\u001b[39;00m:\n\u001b[1;32m    348\u001b[0m     \u001b[38;5;28mcls\u001b[39m \u001b[38;5;241m=\u001b[39m JSONDecoder\n",
      "File \u001b[0;32m/usr/lib/python3.10/json/decoder.py:340\u001b[0m, in \u001b[0;36mJSONDecoder.decode\u001b[0;34m(self, s, _w)\u001b[0m\n\u001b[1;32m    338\u001b[0m end \u001b[38;5;241m=\u001b[39m _w(s, end)\u001b[38;5;241m.\u001b[39mend()\n\u001b[1;32m    339\u001b[0m \u001b[38;5;28;01mif\u001b[39;00m end \u001b[38;5;241m!=\u001b[39m \u001b[38;5;28mlen\u001b[39m(s):\n\u001b[0;32m--> 340\u001b[0m     \u001b[38;5;28;01mraise\u001b[39;00m JSONDecodeError(\u001b[38;5;124m\"\u001b[39m\u001b[38;5;124mExtra data\u001b[39m\u001b[38;5;124m\"\u001b[39m, s, end)\n\u001b[1;32m    341\u001b[0m \u001b[38;5;28;01mreturn\u001b[39;00m obj\n",
      "\u001b[0;31mJSONDecodeError\u001b[0m: Extra data: line 2 column 1 (char 948)"
     ]
    }
   ],
   "source": [
    "with open('karlesT.json', 'r') as json_file:\n",
    "    data = json.load(json_file)\n",
    "\n",
    "with open('karlesT.jsonl', 'w') as jsonl_file:\n",
    "    for item in data:\n",
    "        jsonl_file.write(json.dumps(item) + '\\n')"
   ]
  }
 ],
 "metadata": {
  "kernelspec": {
   "display_name": "IAbootcamp-coCBLaES",
   "language": "python",
   "name": "python3"
  },
  "language_info": {
   "codemirror_mode": {
    "name": "ipython",
    "version": 3
   },
   "file_extension": ".py",
   "mimetype": "text/x-python",
   "name": "python",
   "nbconvert_exporter": "python",
   "pygments_lexer": "ipython3",
   "version": "3.10.12"
  }
 },
 "nbformat": 4,
 "nbformat_minor": 2
}
