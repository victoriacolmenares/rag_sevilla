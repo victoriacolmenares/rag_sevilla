{
 "cells": [
  {
   "cell_type": "markdown",
   "metadata": {},
   "source": [
    "# Youtube to audio"
   ]
  },
  {
   "cell_type": "code",
   "execution_count": 29,
   "metadata": {},
   "outputs": [],
   "source": [
    "import os\n",
    "import time\n",
    "from pytube import YouTube\n",
    "from pytube.exceptions import VideoUnavailable, RegexMatchError\n",
    "from urllib3.exceptions import IncompleteRead\n",
    "from youtube_dl import YoutubeDL"
   ]
  },
  {
   "cell_type": "markdown",
   "metadata": {},
   "source": [
    "## Dowload the audio from a youtube video"
   ]
  },
  {
   "cell_type": "code",
   "execution_count": null,
   "metadata": {},
   "outputs": [],
   "source": [
    "yt_urls = [\n",
    "    'https://www.youtube.com/watch?v=pvpHcX2Ksac',\n",
    "    'https://www.youtube.com/watch?v=DznAvcM_OHw',\n",
    "    'https://www.youtube.com/watch?v=Suogn4k74lQ',\n",
    "]"
   ]
  },
  {
   "cell_type": "code",
   "execution_count": 38,
   "metadata": {},
   "outputs": [],
   "source": [
    "def download_audio(yt_urls, output_path='.'):\n",
    "    for url in yt_urls:\n",
    "        print(f\"Downloading audio from: {url}\")\n",
    "        try:\n",
    "            yt = YouTube(url)\n",
    "            audio_stream = yt.streams.filter(only_audio=True).first()\n",
    "            \n",
    "            if audio_stream:\n",
    "                audio_stream.download(output_path=output_path)\n",
    "                print(f\"Audio downloaded successfully: {audio_stream.default_filename}\")\n",
    "            else:\n",
    "                print(\"No audio streams available for this video.\")\n",
    "        except Exception as e:\n",
    "            print(f\"An error occurred downloading the audio: {e}\")"
   ]
  },
  {
   "cell_type": "code",
   "execution_count": 37,
   "metadata": {},
   "outputs": [
    {
     "name": "stdout",
     "output_type": "stream",
     "text": [
      "Audio downloaded successfully: Martita de Graná: \"Día chungo\".mp4\n",
      "Audio downloaded successfully: Martita de Graná: Viajar.mp4\n",
      "Audio downloaded successfully: Martita de Graná: ¿Soltero o con pareja?.mp4\n"
     ]
    }
   ],
   "source": [
    "download_audio(yt_urls)"
   ]
  }
 ],
 "metadata": {
  "kernelspec": {
   "display_name": "IAbootcamp-coCBLaES",
   "language": "python",
   "name": "python3"
  },
  "language_info": {
   "codemirror_mode": {
    "name": "ipython",
    "version": 3
   },
   "file_extension": ".py",
   "mimetype": "text/x-python",
   "name": "python",
   "nbconvert_exporter": "python",
   "pygments_lexer": "ipython3",
   "version": "3.10.12"
  }
 },
 "nbformat": 4,
 "nbformat_minor": 2
}
