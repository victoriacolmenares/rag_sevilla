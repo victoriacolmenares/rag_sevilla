{
 "cells": [
  {
   "cell_type": "markdown",
   "metadata": {},
   "source": [
    "# Youtube to audio"
   ]
  },
  {
   "cell_type": "code",
   "execution_count": 1,
   "metadata": {},
   "outputs": [
    {
     "name": "stdout",
     "output_type": "stream",
     "text": [
      "Collecting pytube\n",
      "  Using cached pytube-15.0.0-py3-none-any.whl.metadata (5.0 kB)\n",
      "Using cached pytube-15.0.0-py3-none-any.whl (57 kB)\n",
      "Installing collected packages: pytube\n",
      "Successfully installed pytube-15.0.0\n",
      "Note: you may need to restart the kernel to use updated packages.\n"
     ]
    }
   ],
   "source": [
    "%pip install pytube"
   ]
  },
  {
   "cell_type": "code",
   "execution_count": 2,
   "metadata": {},
   "outputs": [],
   "source": [
    "from pytube import YouTube\n",
    "from pytube.exceptions import VideoUnavailable, RegexMatchError\n",
    "from urllib3.exceptions import IncompleteRead\n",
    "import time"
   ]
  },
  {
   "cell_type": "markdown",
   "metadata": {},
   "source": [
    "## Dowload the audio from a youtube video"
   ]
  },
  {
   "cell_type": "code",
   "execution_count": 5,
   "metadata": {},
   "outputs": [
    {
     "name": "stdout",
     "output_type": "stream",
     "text": [
      "Audio downloaded successfully: Martita de Graná ¿Soltero o con pareja.mp4\n"
     ]
    }
   ],
   "source": [
    "def download_audio(url, output_path='.', retries=3):\n",
    "    attempt = 0\n",
    "    while attempt < retries:\n",
    "        try:\n",
    "            yt = YouTube(url)\n",
    "            audio_stream = yt.streams.filter(only_audio=True).first()\n",
    "            # For downloading the video instead of just the audio, use the following line instead: only_audio=False\n",
    "            \n",
    "            if audio_stream:\n",
    "                audio_stream.download(output_path=output_path)\n",
    "                print(f\"Audio downloaded successfully: {audio_stream.default_filename}\")\n",
    "                return\n",
    "            else:\n",
    "                print(\"No audio streams available for this video.\")\n",
    "                return\n",
    "        except Exception as e:\n",
    "            print(f\"An error occurred: {e}. Retrying ({attempt + 1}/{retries})...\")\n",
    "            attempt += 1\n",
    "            time.sleep(2)\n",
    "    print(\"Failed to download the audio after several attempts.\")\n",
    "\n",
    "video_url = input(\"Enter the YouTube video URL: \")\n",
    "output_path = input(\"Enter the output path (default is current directory): \") or '.'\n",
    "download_audio(video_url, output_path)"
   ]
  }
 ],
 "metadata": {
  "kernelspec": {
   "display_name": "IAbootcamp-coCBLaES",
   "language": "python",
   "name": "python3"
  },
  "language_info": {
   "codemirror_mode": {
    "name": "ipython",
    "version": 3
   },
   "file_extension": ".py",
   "mimetype": "text/x-python",
   "name": "python",
   "nbconvert_exporter": "python",
   "pygments_lexer": "ipython3",
   "version": "3.10.12"
  }
 },
 "nbformat": 4,
 "nbformat_minor": 2
}
